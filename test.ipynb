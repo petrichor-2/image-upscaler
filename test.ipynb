{
 "cells": [
  {
   "cell_type": "code",
   "execution_count": 28,
   "id": "3dc28cad",
   "metadata": {},
   "outputs": [],
   "source": [
    "import importlib\n",
    "import src.process_data as process_data"
   ]
  },
  {
   "cell_type": "code",
   "execution_count": 33,
   "id": "dd57a60c",
   "metadata": {},
   "outputs": [
    {
     "data": {
      "text/plain": [
       "<module 'src.process_data' from '/Users/ayushiagrawal/Documents/UofT/2 2T5Summer APS360/image-upscaler/src/process_data.py'>"
      ]
     },
     "execution_count": 33,
     "metadata": {},
     "output_type": "execute_result"
    }
   ],
   "source": [
    "# Reimport module when you make changes\n",
    "importlib.reload(process_data)"
   ]
  },
  {
   "cell_type": "code",
   "execution_count": null,
   "id": "a379f34c",
   "metadata": {},
   "outputs": [
    {
     "name": "stderr",
     "output_type": "stream",
     "text": [
      "libpng warning: iCCP: profile 'ICC Profile': 'GRAY': Gray color space not permitted on RGB PNG\n"
     ]
    }
   ],
   "source": [
    "data_dir = 'data/chestxrays'\n",
    "process_data.generate_downsampled_pairs(data_dir)"
   ]
  },
  {
   "cell_type": "code",
   "execution_count": 38,
   "id": "9324a74e",
   "metadata": {},
   "outputs": [
    {
     "name": "stdout",
     "output_type": "stream",
     "text": [
      "Training data length: 843\n",
      "Validation data length: 245\n",
      "Test data length: 112\n",
      "Sample training LR shape: torch.Size([3, 64, 64])\n",
      "Sample training HR shape: torch.Size([3, 256, 256])\n",
      "Sample training batch shape: torch.Size([64, 3, 64, 64])\n"
     ]
    }
   ],
   "source": [
    "# get data loaders\n",
    "data_loaders = process_data.get_data_loaders(data_dir)\n",
    "\n",
    "print(\"Training data length:\", len(data_loaders['train'].dataset))\n",
    "print(\"Validation data length:\", len(data_loaders['val'].dataset))\n",
    "print(\"Test data length:\", len(data_loaders['test'].dataset))\n",
    "\n",
    "print(\"Sample training LR shape:\", data_loaders['train'].dataset[0][0].shape)\n",
    "print(\"Sample training HR shape:\", data_loaders['train'].dataset[0][1].shape)\n",
    "\n",
    "print(\"Sample training batch shape:\", next(iter(data_loaders['train']))[0].shape)"
   ]
  }
 ],
 "metadata": {
  "kernelspec": {
   "display_name": "venv",
   "language": "python",
   "name": "python3"
  },
  "language_info": {
   "codemirror_mode": {
    "name": "ipython",
    "version": 3
   },
   "file_extension": ".py",
   "mimetype": "text/x-python",
   "name": "python",
   "nbconvert_exporter": "python",
   "pygments_lexer": "ipython3",
   "version": "3.13.3"
  }
 },
 "nbformat": 4,
 "nbformat_minor": 5
}
